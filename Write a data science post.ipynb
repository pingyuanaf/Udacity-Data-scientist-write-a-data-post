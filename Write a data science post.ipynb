{
 "cells": [
  {
   "cell_type": "markdown",
   "metadata": {},
   "source": [
    "# What's most welcome language among developer based on the stackoverflow survey data"
   ]
  },
  {
   "cell_type": "markdown",
   "metadata": {},
   "source": [
    "### 1. Business understanding\n",
    "For this reseaching, we will draw our insight based on Stack overflow survey data 2018-2020, 3 main below questions need to be tackle :\n",
    "1. What's most pouplar language that among last 3 year?\n",
    "2. What's rapid growing language that among last 3 year?\n",
    "3. What's depreciated langauge that among last 3 year?"
   ]
  },
  {
   "cell_type": "markdown",
   "metadata": {},
   "source": [
    "### 2. Data understanding"
   ]
  },
  {
   "cell_type": "code",
   "execution_count": 1,
   "metadata": {},
   "outputs": [],
   "source": [
    "# import necessary package\n",
    "import pandas as pd \n",
    "import matplotlib.pyplot as plt"
   ]
  },
  {
   "cell_type": "code",
   "execution_count": 2,
   "metadata": {},
   "outputs": [],
   "source": [
    "# Gather 3 years data\n",
    "data_2018=pd.read_csv(\"2018.csv\",low_memory=False)\n",
    "data_2019=pd.read_csv(\"2019.csv\",low_memory=False)\n",
    "data_2020=pd.read_csv(\"2020.csv\",low_memory=False)"
   ]
  },
  {
   "cell_type": "code",
   "execution_count": 3,
   "metadata": {},
   "outputs": [],
   "source": [
    "# Comine data together\n",
    "data_2020['collected_year']=2020\n",
    "data_2019['collected_year']=2019\n",
    "data_2018['collected_year']=2018\n",
    "\n",
    "data=data_2020[['LanguageWorkedWith','collected_year']].append(data_2019[['LanguageWorkedWith','collected_year']],ignore_index=True)\n",
    "data=data.append(data_2018[['LanguageWorkedWith','collected_year']],ignore_index=True)"
   ]
  },
  {
   "cell_type": "code",
   "execution_count": 4,
   "metadata": {},
   "outputs": [
    {
     "data": {
      "text/plain": [
       "(252199, 2)"
      ]
     },
     "execution_count": 4,
     "metadata": {},
     "output_type": "execute_result"
    }
   ],
   "source": [
    "data.shape"
   ]
  },
  {
   "cell_type": "code",
   "execution_count": 5,
   "metadata": {},
   "outputs": [
    {
     "data": {
      "text/html": [
       "<div>\n",
       "<style scoped>\n",
       "    .dataframe tbody tr th:only-of-type {\n",
       "        vertical-align: middle;\n",
       "    }\n",
       "\n",
       "    .dataframe tbody tr th {\n",
       "        vertical-align: top;\n",
       "    }\n",
       "\n",
       "    .dataframe thead th {\n",
       "        text-align: right;\n",
       "    }\n",
       "</style>\n",
       "<table border=\"1\" class=\"dataframe\">\n",
       "  <thead>\n",
       "    <tr style=\"text-align: right;\">\n",
       "      <th></th>\n",
       "      <th>LanguageWorkedWith</th>\n",
       "      <th>collected_year</th>\n",
       "    </tr>\n",
       "  </thead>\n",
       "  <tbody>\n",
       "    <tr>\n",
       "      <th>0</th>\n",
       "      <td>C#;HTML/CSS;JavaScript</td>\n",
       "      <td>2020</td>\n",
       "    </tr>\n",
       "    <tr>\n",
       "      <th>1</th>\n",
       "      <td>JavaScript;Swift</td>\n",
       "      <td>2020</td>\n",
       "    </tr>\n",
       "    <tr>\n",
       "      <th>2</th>\n",
       "      <td>Objective-C;Python;Swift</td>\n",
       "      <td>2020</td>\n",
       "    </tr>\n",
       "    <tr>\n",
       "      <th>3</th>\n",
       "      <td>NaN</td>\n",
       "      <td>2020</td>\n",
       "    </tr>\n",
       "    <tr>\n",
       "      <th>4</th>\n",
       "      <td>HTML/CSS;Ruby;SQL</td>\n",
       "      <td>2020</td>\n",
       "    </tr>\n",
       "  </tbody>\n",
       "</table>\n",
       "</div>"
      ],
      "text/plain": [
       "         LanguageWorkedWith  collected_year\n",
       "0    C#;HTML/CSS;JavaScript            2020\n",
       "1          JavaScript;Swift            2020\n",
       "2  Objective-C;Python;Swift            2020\n",
       "3                       NaN            2020\n",
       "4         HTML/CSS;Ruby;SQL            2020"
      ]
     },
     "execution_count": 5,
     "metadata": {},
     "output_type": "execute_result"
    }
   ],
   "source": [
    "data.head()"
   ]
  },
  {
   "cell_type": "code",
   "execution_count": 6,
   "metadata": {},
   "outputs": [
    {
     "data": {
      "text/plain": [
       "HTML/CSS;JavaScript;PHP;SQL                                                  1073\n",
       "HTML/CSS;JavaScript                                                           900\n",
       "C#;HTML/CSS;JavaScript;SQL                                                    856\n",
       "C#;HTML/CSS;JavaScript;SQL;TypeScript                                         754\n",
       "HTML/CSS;JavaScript;TypeScript                                                697\n",
       "                                                                             ... \n",
       "Assembly;C;HTML/CSS;JavaScript;PHP;Python;R;SQL                                 1\n",
       "Bash/Shell/PowerShell;C#;HTML/CSS;JavaScript;Objective-C;R;SQL;TypeScript       1\n",
       "C;C++;Go;HTML/CSS;JavaScript;Objective-C;PHP;Python;Ruby;SQL;Swift              1\n",
       "Bash/Shell/PowerShell;C++;Go;Java;Python;Rust                                   1\n",
       "Assembly;C++;HTML/CSS;Java                                                      1\n",
       "Name: LanguageWorkedWith, Length: 14256, dtype: int64"
      ]
     },
     "execution_count": 6,
     "metadata": {},
     "output_type": "execute_result"
    }
   ],
   "source": [
    "data.loc[(data['collected_year']==2020),'LanguageWorkedWith'].value_counts()"
   ]
  },
  {
   "cell_type": "code",
   "execution_count": 7,
   "metadata": {},
   "outputs": [
    {
     "data": {
      "text/html": [
       "<div>\n",
       "<style scoped>\n",
       "    .dataframe tbody tr th:only-of-type {\n",
       "        vertical-align: middle;\n",
       "    }\n",
       "\n",
       "    .dataframe tbody tr th {\n",
       "        vertical-align: top;\n",
       "    }\n",
       "\n",
       "    .dataframe thead th {\n",
       "        text-align: right;\n",
       "    }\n",
       "</style>\n",
       "<table border=\"1\" class=\"dataframe\">\n",
       "  <thead>\n",
       "    <tr style=\"text-align: right;\">\n",
       "      <th></th>\n",
       "      <th>LanguageWorkedWith</th>\n",
       "    </tr>\n",
       "  </thead>\n",
       "  <tbody>\n",
       "    <tr>\n",
       "      <th>0</th>\n",
       "      <td>[C#, HTML/CSS, JavaScript]</td>\n",
       "    </tr>\n",
       "    <tr>\n",
       "      <th>1</th>\n",
       "      <td>[JavaScript, Swift]</td>\n",
       "    </tr>\n",
       "    <tr>\n",
       "      <th>2</th>\n",
       "      <td>[Objective-C, Python, Swift]</td>\n",
       "    </tr>\n",
       "    <tr>\n",
       "      <th>3</th>\n",
       "      <td>NaN</td>\n",
       "    </tr>\n",
       "    <tr>\n",
       "      <th>4</th>\n",
       "      <td>[HTML/CSS, Ruby, SQL]</td>\n",
       "    </tr>\n",
       "    <tr>\n",
       "      <th>...</th>\n",
       "      <td>...</td>\n",
       "    </tr>\n",
       "    <tr>\n",
       "      <th>64456</th>\n",
       "      <td>NaN</td>\n",
       "    </tr>\n",
       "    <tr>\n",
       "      <th>64457</th>\n",
       "      <td>[Assembly, Bash/Shell/PowerShell, C, C#, C++, ...</td>\n",
       "    </tr>\n",
       "    <tr>\n",
       "      <th>64458</th>\n",
       "      <td>NaN</td>\n",
       "    </tr>\n",
       "    <tr>\n",
       "      <th>64459</th>\n",
       "      <td>[HTML/CSS]</td>\n",
       "    </tr>\n",
       "    <tr>\n",
       "      <th>64460</th>\n",
       "      <td>[C#, HTML/CSS, Java, JavaScript, SQL]</td>\n",
       "    </tr>\n",
       "  </tbody>\n",
       "</table>\n",
       "<p>64461 rows × 1 columns</p>\n",
       "</div>"
      ],
      "text/plain": [
       "                                      LanguageWorkedWith\n",
       "0                             [C#, HTML/CSS, JavaScript]\n",
       "1                                    [JavaScript, Swift]\n",
       "2                           [Objective-C, Python, Swift]\n",
       "3                                                    NaN\n",
       "4                                  [HTML/CSS, Ruby, SQL]\n",
       "...                                                  ...\n",
       "64456                                                NaN\n",
       "64457  [Assembly, Bash/Shell/PowerShell, C, C#, C++, ...\n",
       "64458                                                NaN\n",
       "64459                                         [HTML/CSS]\n",
       "64460              [C#, HTML/CSS, Java, JavaScript, SQL]\n",
       "\n",
       "[64461 rows x 1 columns]"
      ]
     },
     "execution_count": 7,
     "metadata": {},
     "output_type": "execute_result"
    }
   ],
   "source": [
    "pd.DataFrame(data.loc[(data['collected_year']==2020),'LanguageWorkedWith'].str.split(';'))"
   ]
  },
  {
   "cell_type": "markdown",
   "metadata": {},
   "source": [
    "#### It seems most of input data are combined serveral selection"
   ]
  },
  {
   "cell_type": "markdown",
   "metadata": {},
   "source": [
    "### 3. Data preparation & Data modelling"
   ]
  },
  {
   "cell_type": "markdown",
   "metadata": {},
   "source": [
    "####  Missing date handling"
   ]
  },
  {
   "cell_type": "code",
   "execution_count": 8,
   "metadata": {},
   "outputs": [
    {
     "name": "stdout",
     "output_type": "stream",
     "text": [
      "total data volumn is 252199\n",
      "missing data volumn is 28918, precentage is 0.11466342055281742\n"
     ]
    }
   ],
   "source": [
    "# check missing data\n",
    "print(\"total data volumn is {}\".format(data.shape[0]))\n",
    "print(\"missing data volumn is {}, precentage is {}\".format(data['LanguageWorkedWith'].isnull().sum(),data['LanguageWorkedWith'].isnull().sum()/data.shape[0]))"
   ]
  },
  {
   "cell_type": "markdown",
   "metadata": {},
   "source": [
    "it seems that we have ~ 10% user didn't fill in any language data, thereof, we should drop them"
   ]
  },
  {
   "cell_type": "code",
   "execution_count": 9,
   "metadata": {},
   "outputs": [
    {
     "name": "stdout",
     "output_type": "stream",
     "text": [
      "total data volumn is 223281\n",
      "missing data volumn is 0, precentage is 0.0\n"
     ]
    }
   ],
   "source": [
    "#Drop NaN value\n",
    "data.dropna(subset=['LanguageWorkedWith'],axis=0,inplace=True)\n",
    "\n",
    "#Check NaN value again\n",
    "print(\"total data volumn is {}\".format(data.shape[0]))\n",
    "print(\"missing data volumn is {}, precentage is {}\".format(data['LanguageWorkedWith'].isnull().sum(),data['LanguageWorkedWith'].isnull().sum()/data.shape[0]))"
   ]
  },
  {
   "cell_type": "markdown",
   "metadata": {},
   "source": [
    "#### Data processing pipeline"
   ]
  },
  {
   "cell_type": "code",
   "execution_count": 10,
   "metadata": {},
   "outputs": [],
   "source": [
    "#define Text split function \n",
    "def split(raw,column='LanguageWorkedWith'):\n",
    "    '''\n",
    "    Input:\n",
    "    raw - raw input data\n",
    "    column - the column you want to split by \"/\"\n",
    "    Output:\n",
    "    new_raw - processed data after being split\n",
    "    '''   \n",
    "    new_raw=raw.copy()\n",
    "    new_raw[column]=raw[column].str.split(';')\n",
    "    return new_raw\n"
   ]
  },
  {
   "cell_type": "code",
   "execution_count": 11,
   "metadata": {},
   "outputs": [],
   "source": [
    "#define language_count function\n",
    "def count_language(raw,result_dict,count_year,column='LanguageWorkedWith'):  \n",
    "    '''\n",
    "    Input:\n",
    "    raw - raw input data\n",
    "    result_dict - the dict you want to inhereit\n",
    "    count_year - the input year\n",
    "    column - the column contain the language\n",
    "    Output:\n",
    "    result_dict - processed data after langauge being counted\n",
    "    '''\n",
    "    for i in split(raw[raw['collected_year']==count_year])[column]:\n",
    "        for j in i:\n",
    "            if (j,count_year) in result_dict.keys():\n",
    "                result_dict[j,count_year]+=1\n",
    "            else:\n",
    "                result_dict[j,count_year]=1\n",
    "    return result_dict\n"
   ]
  },
  {
   "cell_type": "code",
   "execution_count": 12,
   "metadata": {},
   "outputs": [],
   "source": [
    "#define percent function:\n",
    "def _percent(raw): \n",
    "    '''\n",
    "    transoform from number into %\n",
    "    '''\n",
    "    new=raw.copy()\n",
    "    for i,j in new.keys():\n",
    "        if j ==2020:\n",
    "            new[i,j]/=data_2020.shape[0]\n",
    "        elif j==2019:\n",
    "            new[i,j]/=data_2019.shape[0]\n",
    "        else:\n",
    "            new[i,j]/=data_2018.shape[0]\n",
    "\n",
    "    return new"
   ]
  },
  {
   "cell_type": "code",
   "execution_count": 13,
   "metadata": {},
   "outputs": [
    {
     "data": {
      "text/html": [
       "<div>\n",
       "<style scoped>\n",
       "    .dataframe tbody tr th:only-of-type {\n",
       "        vertical-align: middle;\n",
       "    }\n",
       "\n",
       "    .dataframe tbody tr th {\n",
       "        vertical-align: top;\n",
       "    }\n",
       "\n",
       "    .dataframe thead th {\n",
       "        text-align: right;\n",
       "    }\n",
       "</style>\n",
       "<table border=\"1\" class=\"dataframe\">\n",
       "  <thead>\n",
       "    <tr style=\"text-align: right;\">\n",
       "      <th></th>\n",
       "      <th></th>\n",
       "      <th>%</th>\n",
       "    </tr>\n",
       "  </thead>\n",
       "  <tbody>\n",
       "    <tr>\n",
       "      <th>JavaScript</th>\n",
       "      <th>2018</th>\n",
       "      <td>0.553194</td>\n",
       "    </tr>\n",
       "    <tr>\n",
       "      <th>Python</th>\n",
       "      <th>2018</th>\n",
       "      <td>0.307106</td>\n",
       "    </tr>\n",
       "    <tr>\n",
       "      <th>HTML</th>\n",
       "      <th>2018</th>\n",
       "      <td>0.542492</td>\n",
       "    </tr>\n",
       "    <tr>\n",
       "      <th>CSS</th>\n",
       "      <th>2018</th>\n",
       "      <td>0.515695</td>\n",
       "    </tr>\n",
       "    <tr>\n",
       "      <th>Bash/Shell</th>\n",
       "      <th>2018</th>\n",
       "      <td>0.315331</td>\n",
       "    </tr>\n",
       "  </tbody>\n",
       "</table>\n",
       "</div>"
      ],
      "text/plain": [
       "                        %\n",
       "JavaScript 2018  0.553194\n",
       "Python     2018  0.307106\n",
       "HTML       2018  0.542492\n",
       "CSS        2018  0.515695\n",
       "Bash/Shell 2018  0.315331"
      ]
     },
     "execution_count": 13,
     "metadata": {},
     "output_type": "execute_result"
    }
   ],
   "source": [
    "# comibe 3 years data into one dict\n",
    "language_perc={}\n",
    "for year in [2018,2019,2020]:\n",
    "    language_perc.update(_percent(count_language(data,{},year)))\n",
    "\n",
    "# a galance at combined data\n",
    "new_data=pd.DataFrame(language_perc,index=['%']).T\n",
    "new_data.head()"
   ]
  },
  {
   "cell_type": "code",
   "execution_count": 14,
   "metadata": {},
   "outputs": [],
   "source": [
    "# Define assert function to check data consistence\n",
    "def assert_column(data,column_name,year):\n",
    "    try:\n",
    "        data[(column_name,year)]\n",
    "        #print('Column {},{} is exist'.format(column_name,year))\n",
    "    except:\n",
    "        print('Column {},{} is not exist'.format(column_name,year))\n",
    "         "
   ]
  },
  {
   "cell_type": "code",
   "execution_count": 15,
   "metadata": {},
   "outputs": [
    {
     "name": "stdout",
     "output_type": "stream",
     "text": [
      "['Go', 'Ruby', 'Cobol', 'JavaScript', 'Visual Basic 6', 'TypeScript', 'Java', 'F#', 'VBA', 'HTML/CSS', 'Assembly', 'Bash/Shell/PowerShell', 'CSS', 'CoffeeScript', 'Kotlin', 'Matlab', 'Scala', 'Hack', 'Groovy', 'HTML', 'Objective-C', 'Rust', 'C#', 'Clojure', 'WebAssembly', 'Dart', 'C++', 'Delphi/Object Pascal', 'R', 'PHP', 'Erlang', 'Lua', 'C', 'Bash/Shell', 'Perl', 'Ocaml', 'Julia', 'Haskell', 'Other(s):', 'SQL', 'Elixir', 'Swift', 'Python', 'VB.NET']\n"
     ]
    }
   ],
   "source": [
    "# collect all the language from 2018 to 2020\n",
    "Language_all=[]\n",
    "for i,j in language_perc.keys():\n",
    "    Language_all.append(i)\n",
    "Language_all=list(set(Language_all))\n",
    "print(Language_all)"
   ]
  },
  {
   "cell_type": "code",
   "execution_count": 16,
   "metadata": {
    "scrolled": true
   },
   "outputs": [
    {
     "name": "stdout",
     "output_type": "stream",
     "text": [
      "Column HTML/CSS,2018 is not exist\n",
      "Column Bash/Shell/PowerShell,2018 is not exist\n",
      "Column WebAssembly,2018 is not exist\n",
      "Column Dart,2018 is not exist\n",
      "Column Other(s):,2018 is not exist\n",
      "Column Elixir,2018 is not exist\n",
      "Column Cobol,2019 is not exist\n",
      "Column Visual Basic 6,2019 is not exist\n",
      "Column CSS,2019 is not exist\n",
      "Column CoffeeScript,2019 is not exist\n",
      "Column Matlab,2019 is not exist\n",
      "Column Hack,2019 is not exist\n",
      "Column Groovy,2019 is not exist\n",
      "Column HTML,2019 is not exist\n",
      "Column Delphi/Object Pascal,2019 is not exist\n",
      "Column Lua,2019 is not exist\n",
      "Column Bash/Shell,2019 is not exist\n",
      "Column Perl,2019 is not exist\n",
      "Column Ocaml,2019 is not exist\n",
      "Column Julia,2019 is not exist\n",
      "Column Haskell,2019 is not exist\n",
      "Column VB.NET,2019 is not exist\n",
      "Column Cobol,2020 is not exist\n",
      "Column Visual Basic 6,2020 is not exist\n",
      "Column F#,2020 is not exist\n",
      "Column CSS,2020 is not exist\n",
      "Column CoffeeScript,2020 is not exist\n",
      "Column Matlab,2020 is not exist\n",
      "Column Hack,2020 is not exist\n",
      "Column Groovy,2020 is not exist\n",
      "Column HTML,2020 is not exist\n",
      "Column Clojure,2020 is not exist\n",
      "Column WebAssembly,2020 is not exist\n",
      "Column Delphi/Object Pascal,2020 is not exist\n",
      "Column Erlang,2020 is not exist\n",
      "Column Lua,2020 is not exist\n",
      "Column Bash/Shell,2020 is not exist\n",
      "Column Ocaml,2020 is not exist\n",
      "Column Other(s):,2020 is not exist\n",
      "Column Elixir,2020 is not exist\n",
      "Column VB.NET,2020 is not exist\n"
     ]
    }
   ],
   "source": [
    "# check data inconsitence\n",
    "for year in [2018,2019,2020]:\n",
    "    for language in Language_all:\n",
    "        assert_column(language_perc,language,year)"
   ]
  },
  {
   "cell_type": "markdown",
   "metadata": {},
   "source": [
    "A lot missing column exist "
   ]
  },
  {
   "cell_type": "code",
   "execution_count": 17,
   "metadata": {},
   "outputs": [
    {
     "data": {
      "text/plain": [
       "<AxesSubplot:>"
      ]
     },
     "execution_count": 17,
     "metadata": {},
     "output_type": "execute_result"
    },
    {
     "data": {
      "image/png": "[encoded data removed]",
      "text/plain": [
       "<Figure size 1296x432 with 1 Axes>"
      ]
     },
     "metadata": {
      "needs_background": "light"
     },
     "output_type": "display_data"
    }
   ],
   "source": [
    "# Data visualize\n",
    "new_data.unstack().plot(kind='bar',figsize=(18,6))"
   ]
  },
  {
   "cell_type": "markdown",
   "metadata": {},
   "source": [
    "It seems that data is not consistent year by year, possible reason is :\n",
    "1. Missing user data input from stakeoverflow user survey\n",
    "2. New emerging language come into place that does not exist before, e.g WebAssembly/Draft/etc.\n",
    "3. Language is really depreciated over the year, thereof, Stakeoverflow has no interest to collect e.g Visual Basic 6/VB.Net/ Ocaml/HACK/etc.\n",
    "4. New language & old lanaguage , e.g Bash/shell has changed the name into Bash/Shell/PowerShell since 2019, possible reason is PowerShell come into popular starting from 2019\n",
    "5. Combining multiple language together, e.g HTML and CSS will counted seprately in 2018,while in 2019/2020, combined together. Possible reason is HTML/CSS is usually the skills connected each other firmly to setup Web\n",
    "\n",
    "We will correct issue : one for Bash/Shell/PowerShell ,one for HTML/CSS"
   ]
  },
  {
   "cell_type": "code",
   "execution_count": 18,
   "metadata": {},
   "outputs": [],
   "source": [
    "language_perc[('Bash/Shell/PowerShell',2018)]=language_perc.pop(('Bash/Shell',2018))\n",
    "language_perc[('HTML/CSS',2018)]=0.5*(language_perc.pop(('HTML',2018)) + language_perc.pop(('CSS',2018)))"
   ]
  },
  {
   "cell_type": "code",
   "execution_count": 19,
   "metadata": {},
   "outputs": [
    {
     "data": {
      "text/plain": [
       "<AxesSubplot:>"
      ]
     },
     "execution_count": 19,
     "metadata": {},
     "output_type": "execute_result"
    },
    {
     "data": {
      "image/png": "[encoded data removed]",
      "text/plain": [
       "<Figure size 1296x432 with 1 Axes>"
      ]
     },
     "metadata": {
      "needs_background": "light"
     },
     "output_type": "display_data"
    }
   ],
   "source": [
    "# Data visualize\n",
    "corrected_data=pd.DataFrame(language_perc,index=['%']).T\n",
    "\n",
    "corrected_data.unstack().plot(kind='bar',figsize=(18,6))"
   ]
  },
  {
   "cell_type": "markdown",
   "metadata": {},
   "source": [
    "### Data analyse & Modelling & Evaluation"
   ]
  },
  {
   "cell_type": "markdown",
   "metadata": {},
   "source": [
    "What's most pouplar language that among last 3 year?"
   ]
  },
  {
   "cell_type": "code",
   "execution_count": 20,
   "metadata": {},
   "outputs": [
    {
     "data": {
      "text/html": [
       "<div>\n",
       "<style scoped>\n",
       "    .dataframe tbody tr th:only-of-type {\n",
       "        vertical-align: middle;\n",
       "    }\n",
       "\n",
       "    .dataframe tbody tr th {\n",
       "        vertical-align: top;\n",
       "    }\n",
       "\n",
       "    .dataframe thead tr th {\n",
       "        text-align: left;\n",
       "    }\n",
       "</style>\n",
       "<table border=\"1\" class=\"dataframe\">\n",
       "  <thead>\n",
       "    <tr>\n",
       "      <th></th>\n",
       "      <th colspan=\"3\" halign=\"left\">%</th>\n",
       "    </tr>\n",
       "    <tr>\n",
       "      <th></th>\n",
       "      <th>2018</th>\n",
       "      <th>2019</th>\n",
       "      <th>2020</th>\n",
       "    </tr>\n",
       "  </thead>\n",
       "  <tbody>\n",
       "    <tr>\n",
       "      <th>Assembly</th>\n",
       "      <td>0.058267</td>\n",
       "      <td>0.065626</td>\n",
       "      <td>0.055119</td>\n",
       "    </tr>\n",
       "    <tr>\n",
       "      <th>Bash/Shell/PowerShell</th>\n",
       "      <td>0.315331</td>\n",
       "      <td>0.359923</td>\n",
       "      <td>0.294442</td>\n",
       "    </tr>\n",
       "    <tr>\n",
       "      <th>C</th>\n",
       "      <td>0.182510</td>\n",
       "      <td>0.202705</td>\n",
       "      <td>0.193714</td>\n",
       "    </tr>\n",
       "    <tr>\n",
       "      <th>C#</th>\n",
       "      <td>0.272662</td>\n",
       "      <td>0.304861</td>\n",
       "      <td>0.279875</td>\n",
       "    </tr>\n",
       "    <tr>\n",
       "      <th>C++</th>\n",
       "      <td>0.201022</td>\n",
       "      <td>0.230910</td>\n",
       "      <td>0.212640</td>\n",
       "    </tr>\n",
       "  </tbody>\n",
       "</table>\n",
       "</div>"
      ],
      "text/plain": [
       "                              %                    \n",
       "                           2018      2019      2020\n",
       "Assembly               0.058267  0.065626  0.055119\n",
       "Bash/Shell/PowerShell  0.315331  0.359923  0.294442\n",
       "C                      0.182510  0.202705  0.193714\n",
       "C#                     0.272662  0.304861  0.279875\n",
       "C++                    0.201022  0.230910  0.212640"
      ]
     },
     "execution_count": 20,
     "metadata": {},
     "output_type": "execute_result"
    }
   ],
   "source": [
    "# some certain language data collection doesn't include in the dataset, in order to keep inconsistency of data, we will treat them as number Zero \n",
    "df=corrected_data.unstack()\n",
    "df=df.fillna(0,axis=0)\n",
    "df.head()"
   ]
  },
  {
   "cell_type": "code",
   "execution_count": 21,
   "metadata": {},
   "outputs": [
    {
     "data": {
      "text/plain": [
       "<AxesSubplot:>"
      ]
     },
     "execution_count": 21,
     "metadata": {},
     "output_type": "execute_result"
    },
    {
     "data": {
      "image/png": "[encoded data removed]",
      "text/plain": [
       "<Figure size 1296x504 with 1 Axes>"
      ]
     },
     "metadata": {
      "needs_background": "light"
     },
     "output_type": "display_data"
    }
   ],
   "source": [
    "# measure the most popular language by using average voting % from 2018-2020\n",
    "df['average']=(df[('%', 2018)]+df[('%', 2019)]+df[('%', 2020)])/3\n",
    "df['average'].sort_values(ascending=False)[:10].plot(kind='bar',figsize=(18,7))"
   ]
  },
  {
   "cell_type": "markdown",
   "metadata": {},
   "source": [
    "What's most rapidlly language that among last 3 year?"
   ]
  },
  {
   "cell_type": "code",
   "execution_count": 22,
   "metadata": {},
   "outputs": [
    {
     "data": {
      "image/png": "[encoded data removed]",
      "text/plain": [
       "<Figure size 1296x216 with 2 Axes>"
      ]
     },
     "metadata": {
      "needs_background": "light"
     },
     "output_type": "display_data"
    }
   ],
   "source": [
    "# measure the rapid growing language by voting deviation\n",
    "plt.subplot(121)\n",
    "(df[('%', 2019)]-df[('%', 2018)]).sort_values(ascending=False)[:5].plot(kind='bar',title='Rapid growing language 2018-2019',figsize=(18,3))\n",
    "plt.subplot(122)\n",
    "\n",
    "(df[('%', 2020)]-df[('%', 2019)]).sort_values(ascending=False)[:5].plot(kind='bar',title='Rapid growing language 2019-2020',figsize=(18,3))\n",
    "plt.show()"
   ]
  },
  {
   "cell_type": "markdown",
   "metadata": {},
   "source": [
    "What's depreciated langauge that among last 3 year?"
   ]
  },
  {
   "cell_type": "code",
   "execution_count": 23,
   "metadata": {},
   "outputs": [
    {
     "data": {
      "image/png": "[encoded data removed]",
      "text/plain": [
       "<Figure size 1296x216 with 2 Axes>"
      ]
     },
     "metadata": {
      "needs_background": "light"
     },
     "output_type": "display_data"
    }
   ],
   "source": [
    "plt.subplot(121)\n",
    "(df[('%', 2019)]-df[('%', 2018)]).sort_values(ascending=True)[:5].plot(kind='bar',title='Rapid depreciating language 2018-2019',figsize=(18,3))\n",
    "plt.subplot(122)\n",
    "\n",
    "(df[('%', 2020)]-df[('%', 2019)]).sort_values(ascending=True)[:5].plot(kind='bar',title='Rapid depreciating language 2019-2020',figsize=(18,3))\n",
    "plt.show()"
   ]
  },
  {
   "cell_type": "markdown",
   "metadata": {},
   "source": [
    "### Conclusion\n"
   ]
  },
  {
   "cell_type": "markdown",
   "metadata": {},
   "source": [
    "#### From analyising the Stackoverflow survey data 2018-2020, we can draw our conclusion as below:\n",
    "1. What's most pouplar language that among last 3 year?\n",
    "JS HTML/CSS ranked as Top 3 implies that WEB development is quite popular these year while SQL/Java/Python/Bash/Shell/PowerShell/C#/C/PHP/C++ takes following\n",
    "2. What's rapid growing language that among last 3 year?\n",
    "In 2019, it seems JS, Python,HTML/CSS ,SQL grows faster than others while in 2020, Perl,HASKshell,Typescript,draft,Rust grows faster\n",
    "3. What's depreciated langauge that among last 3 year?\n",
    "In 2019, it seems Vb.Net, Matlab ,Groovy , perl, VB6 depreciated hugely than others while in 2020,Bash/Shell/PowerShell, JS,HTML/CSS,SQL depreciated more"
   ]
  }
 ],
 "metadata": {
  "kernelspec": {
   "display_name": "Python 3",
   "language": "python",
   "name": "python3"
  },
  "language_info": {
   "codemirror_mode": {
    "name": "ipython",
    "version": 3
   },
   "file_extension": ".py",
   "mimetype": "text/x-python",
   "name": "python",
   "nbconvert_exporter": "python",
   "pygments_lexer": "ipython3",
   "version": "3.8.6"
  }
 },
 "nbformat": 4,
 "nbformat_minor": 4
}
